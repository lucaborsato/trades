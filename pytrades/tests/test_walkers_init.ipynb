{
 "cells": [
  {
   "cell_type": "code",
   "execution_count": null,
   "metadata": {},
   "outputs": [],
   "source": [
    "%matplotlib inline"
   ]
  },
  {
   "cell_type": "code",
   "execution_count": null,
   "metadata": {},
   "outputs": [],
   "source": [
    "import numpy as np\n",
    "import os\n",
    "import sys"
   ]
  },
  {
   "cell_type": "markdown",
   "metadata": {},
   "source": [
    "import `pytrades` and `ancillary` modules"
   ]
  },
  {
   "cell_type": "code",
   "execution_count": null,
   "metadata": {},
   "outputs": [],
   "source": [
    "pytrades_dir = os.path.abspath(\"../\")\n",
    "sys.path.append(pytrades_dir)\n",
    "\n",
    "import pytrades\n",
    "import ancillary as anc\n",
    "import constants as cst"
   ]
  },
  {
   "cell_type": "markdown",
   "metadata": {},
   "source": [
    "init `pytrades` with 2p-system"
   ]
  },
  {
   "cell_type": "code",
   "execution_count": null,
   "metadata": {},
   "outputs": [],
   "source": [
    "# exosystem_folder = os.path.abspath(\"../../trades_example/base_2p/\")\n",
    "exosystem_folder = os.path.abspath(\"../../trades_example/Kepler-9_example/\")\n",
    "sim = pytrades.TRADES(\n",
    "    exosystem_folder,\n",
    "    sub_folder=\"\",\n",
    "    nthreads=1,\n",
    "    seed=42,\n",
    "    m_type=\"e\"\n",
    ")"
   ]
  },
  {
   "cell_type": "code",
   "execution_count": null,
   "metadata": {},
   "outputs": [],
   "source": [
    "for k, v in vars(sim).items():\n",
    "    print(k, v)"
   ]
  },
  {
   "cell_type": "code",
   "execution_count": null,
   "metadata": {},
   "outputs": [],
   "source": [
    "sim.init_trades()"
   ]
  },
  {
   "cell_type": "markdown",
   "metadata": {},
   "source": [
    "define the `delta_sigma`"
   ]
  },
  {
   "cell_type": "code",
   "execution_count": 5,
   "metadata": {},
   "outputs": [],
   "source": [
    "delta_sigma = 1.0e-3\n",
    "np.random.seed(666)"
   ]
  },
  {
   "cell_type": "markdown",
   "metadata": {},
   "source": [
    "function convert to physical parameters some of them"
   ]
  },
  {
   "cell_type": "code",
   "execution_count": 6,
   "metadata": {},
   "outputs": [],
   "source": [
    "def convert(pars, sim):\n",
    "    pnew = pars.copy()\n",
    "    for i, n in enumerate(sim.fitting_names):\n",
    "        p = pars[i]\n",
    "        if \"Ms\" in n:\n",
    "            pnew[i] = p * sim.MR_star[0,0]*cst.Msear\n",
    "        if \"secosw\" in n:\n",
    "            ps = pars[i+1]\n",
    "            pnew[i] = p*p + ps*ps\n",
    "            pnew[i+1] = (np.arctan2(ps, p)*cst.rad2deg)%360.0\n",
    "        if \"l2j\" in n:\n",
    "             pnew[i] = 2.0**p\n",
    "    return pnew\n"
   ]
  },
  {
   "cell_type": "markdown",
   "metadata": {},
   "source": [
    "test original function to compute physical delta"
   ]
  },
  {
   "cell_type": "code",
   "execution_count": null,
   "metadata": {},
   "outputs": [],
   "source": [
    "fit_v1 = convert(sim.fitting_parameters, sim)\n",
    "delta_v1 = anc.compute_proper_sigma(sim.nfit, delta_sigma, sim.fitting_names)\n",
    "# par_v1 = delta_v1\n",
    "par_v1 = np.random.normal(loc=sim.fitting_parameters, scale=delta_v1)\n",
    "new_v1 = convert(par_v1, sim)\n",
    "for n, p, pmin, pmax, f, d, pn in zip(\n",
    "        sim.fitting_names, sim.fitting_parameters, sim.fitting_minmax[:,0], sim.fitting_minmax[:,1],\n",
    "        fit_v1,\n",
    "        par_v1, new_v1\n",
    "    ):\n",
    "    print(\n",
    "        \"{:12s} = {:16.8f} [{:16.8f} , {:16.8f}] ({:16.8f}) --> {:16.8f} ==> {:16.8f}\".format(\n",
    "        n, p, pmin, pmax, f, d, pn\n",
    "    ))"
   ]
  },
  {
   "cell_type": "markdown",
   "metadata": {},
   "source": [
    "test a version based on the boundaries"
   ]
  },
  {
   "cell_type": "code",
   "execution_count": null,
   "metadata": {},
   "outputs": [],
   "source": [
    "# fit_v1 = convert(sim.fitting_parameters, sim)\n",
    "dp = sim.fitting_minmax[:,1] - sim.fitting_minmax[:,0]\n",
    "delta_v2 = dp * delta_sigma\n",
    "# par_v2 = delta_v2\n",
    "par_v2 = np.random.normal(loc=sim.fitting_parameters, scale=delta_v2)\n",
    "new_v2 = convert(par_v2, sim)\n",
    "for n, p, pmin, pmax, f, d, pn in zip(\n",
    "        sim.fitting_names, sim.fitting_parameters, sim.fitting_minmax[:,0], sim.fitting_minmax[:,1],\n",
    "        fit_v1,\n",
    "        par_v2, new_v2\n",
    "    ):\n",
    "    \n",
    "    \n",
    "    print(\n",
    "        \"{:12s} = {:16.8f} [{:16.8f} , {:16.8f}] ({:16.8f}) --> {:16.8f} ==> {:16.8f}\".format(\n",
    "        n, p, pmin, pmax, f, d, pn\n",
    "    ))"
   ]
  },
  {
   "cell_type": "markdown",
   "metadata": {},
   "source": [
    "updated version of `compute_proper_sigma` to test"
   ]
  },
  {
   "cell_type": "code",
   "execution_count": null,
   "metadata": {},
   "outputs": [],
   "source": [
    "def compute_proper_sigma(parameter_names, fitting_minmax, delta_sigma=0.001):\n",
    "\n",
    "\n",
    "    delta_par = fitting_minmax[:,1] - fitting_minmax[:,0] \n",
    "\n",
    "    delta_sigma_out = np.zeros(len(parameter_names))*delta_sigma\n",
    "    \n",
    "    for ifit, name in enumerate(parameter_names):\n",
    "        if \"Ms\" in name:\n",
    "            Dx = delta_par[ifit]*cst.Msear\n",
    "            if Dx < 0.5:\n",
    "                dx = 0.01\n",
    "            elif 0.5 <= Dx < 50.0:\n",
    "                dx = 1.0\n",
    "            else:\n",
    "                dx = 10.0    \n",
    "            delta_sigma_out[ifit] = dx * cst.Mears\n",
    "\n",
    "        if \"P\" in name:\n",
    "            Dx = delta_par[ifit]\n",
    "            if Dx < 2.0:\n",
    "                dx = 0.005\n",
    "            elif 2.0 <= Dx < 10.0:\n",
    "                dx = 0.25\n",
    "            else:\n",
    "                dx = 1.0\n",
    "            delta_sigma_out[ifit] = dx\n",
    "\n",
    "        # sqrt(e)cos/sinw is fine with delta_sigma      \n",
    "        \n",
    "        if \"mA\" in name or \"lambda\" in name or \"lN\" in name:\n",
    "            delta_sigma_out[ifit] = 1.0\n",
    "\n",
    "        if \"i\" in name:\n",
    "            delta_sigma_out[ifit] = 0.1\n",
    "\n",
    "        if \"l2j\" in name:\n",
    "            delta_sigma_out[ifit] = np.abs(np.log2(0.5))\n",
    "\n",
    "        if \"gamma\" in name:\n",
    "            delta_sigma_out[ifit] = 10.0\n",
    "\n",
    "    return delta_sigma_out"
   ]
  },
  {
   "cell_type": "code",
   "execution_count": null,
   "metadata": {},
   "outputs": [],
   "source": [
    "delta_v3 = compute_proper_sigma(sim.fitting_names, sim.fitting_minmax, delta_sigma=delta_sigma)\n",
    "# par_v3 = delta_v2\n",
    "par_v3 = np.random.normal(loc=sim.fitting_parameters, scale=delta_v3)\n",
    "new_v3 = convert(par_v3, sim)\n",
    "for n, p, pmin, pmax, f, d, pn in zip(\n",
    "        sim.fitting_names, sim.fitting_parameters, sim.fitting_minmax[:,0], sim.fitting_minmax[:,1],\n",
    "        fit_v1,\n",
    "        par_v3, new_v3\n",
    "    ):\n",
    "    \n",
    "    \n",
    "    print(\n",
    "        \"{:12s} = {:16.8f} [{:16.8f} , {:16.8f}] ({:16.8f}) --> {:16.8f} ==> {:16.8f}\".format(\n",
    "        n, p, pmin, pmax, f, d, pn\n",
    "    ))"
   ]
  },
  {
   "cell_type": "code",
   "execution_count": null,
   "metadata": {},
   "outputs": [],
   "source": [
    "for n, p0, p1, p2, p3 in zip(sim.fitting_names, fit_v1, new_v1, new_v2, new_v3):\n",
    "\n",
    "    print(\n",
    "        \"{:12s} : {:16.8f} {:16.8f} {:16.8f} {:16.8f}\".format(\n",
    "        n, p0, p1, p2, p3\n",
    "    ))"
   ]
  }
 ],
 "metadata": {
  "kernelspec": {
   "display_name": "Python 3.8.13 ('cheopenv')",
   "language": "python",
   "name": "python3"
  },
  "language_info": {
   "codemirror_mode": {
    "name": "ipython",
    "version": 3
   },
   "file_extension": ".py",
   "mimetype": "text/x-python",
   "name": "python",
   "nbconvert_exporter": "python",
   "pygments_lexer": "ipython3",
   "version": "3.8.13"
  },
  "orig_nbformat": 4,
  "vscode": {
   "interpreter": {
    "hash": "c65e90fa95f1f3d902526481436b9561198bf9ad6cfe0ceeeef6fb1da97825c5"
   }
  }
 },
 "nbformat": 4,
 "nbformat_minor": 2
}
