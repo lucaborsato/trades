{
 "cells": [
  {
   "cell_type": "markdown",
   "id": "0b5b25df-e49d-44f0-a734-18d81f3a5ba3",
   "metadata": {},
   "source": [
    "# TRADES DE plots and run"
   ]
  },
  {
   "cell_type": "code",
   "execution_count": null,
   "id": "75274157-5e85-4da5-a631-abf6b91e9260",
   "metadata": {},
   "outputs": [],
   "source": [
    "import numpy as np\n",
    "import os\n",
    "import sys"
   ]
  },
  {
   "cell_type": "code",
   "execution_count": null,
   "id": "cc101bd6-f423-4b50-bd40-ef0b68529410",
   "metadata": {},
   "outputs": [],
   "source": [
    "from pytrades import pytrades\n",
    "from pytrades import ancillary as anc\n",
    "from pytrades import constants as cst\n",
    "from pytrades.de import DEEvolution"
   ]
  },
  {
   "cell_type": "code",
   "execution_count": null,
   "id": "c6c679be-cdd4-4460-b8e4-95d50724ecd4",
   "metadata": {},
   "outputs": [],
   "source": [
    "import matplotlib.pyplot as plt\n",
    "# %matplotlib inline\n",
    "anc.set_rcParams()"
   ]
  },
  {
   "cell_type": "code",
   "execution_count": null,
   "id": "bf6afdb7-01f1-4aec-ac74-9ba6ff0b326f",
   "metadata": {},
   "outputs": [],
   "source": [
    "exo_folder = os.path.abspath(\n",
    "    \"/path/to/explanet/system/folder\"\n",
    ")\n",
    "run_folder = os.path.join(\n",
    "    exo_folder,\n",
    "    \"main_simulation_folder\",\n",
    "    \"run_pyde_subfolder\"\n",
    ")"
   ]
  },
  {
   "cell_type": "markdown",
   "id": "1e23b7b2-9a61-455d-8c3d-4d0cd4ae5bf9",
   "metadata": {},
   "source": [
    "Read `star.dat` file and get input stellar parameters"
   ]
  },
  {
   "cell_type": "code",
   "execution_count": null,
   "id": "4f2ecb77-dfc5-4a86-9802-4d4aff682d9c",
   "metadata": {},
   "outputs": [],
   "source": [
    "# Mstar = 0.50 # 0.03          # Mstar [Msun]\n",
    "# Rstar = 0.75 # 0.03          # Rstar [Rsun]\n",
    "# print(Mstar, Rstar)\n",
    "# or\n",
    "# star file in run_folder as the first line of bodies.lst, i.e. star.dat\n",
    "with open(os.path.join(run_folder, \"bodies.lst\"), \"r\") as bdf:\n",
    "    star_file = bdf.readline().strip().split(\" \")[0]\n",
    "print(star_file)\n",
    "with open(os.path.join(run_folder, star_file), \"r\") as sf:\n",
    "    lines = sf.readlines()\n",
    "Mstar = float(lines[0].strip().split(\" \")[0])\n",
    "Rstar = float(lines[1].strip().split(\" \")[0])\n",
    "print(Mstar, Rstar)"
   ]
  },
  {
   "cell_type": "markdown",
   "id": "82739a46-3c3d-4821-a144-9ee01c412371",
   "metadata": {},
   "source": [
    "Load `PyDE` file and create object"
   ]
  },
  {
   "cell_type": "code",
   "execution_count": null,
   "id": "d3226ce5-6164-48be-84fe-cfdbe2a2168e",
   "metadata": {},
   "outputs": [],
   "source": [
    "de = DEEvolution(run_folder)"
   ]
  },
  {
   "cell_type": "markdown",
   "id": "89449eb2-876f-4049-b6fd-5c7ae6e00d7b",
   "metadata": {},
   "source": [
    "You can convert masses and eccentricities from fitted parameters ($M_\\textrm{p}/M_\\star$, $\\sqrt{e}\\cos\\omega$, $\\sqrt{e}\\sin\\omega$)"
   ]
  },
  {
   "cell_type": "code",
   "execution_count": null,
   "id": "8b968c60-8037-4b50-bb8c-2915b0c2b6f9",
   "metadata": {},
   "outputs": [],
   "source": [
    "de.convert_masses(Mstar=Mstar, mass_unit='e') # mass_unit == 'e' for Earth, 'j' for Jupiter masses\n",
    "de.get_eccentricity()\n",
    "# de.convert_jitter()\n",
    "# de.recenter_angles()"
   ]
  },
  {
   "cell_type": "markdown",
   "id": "c7265da7-1dcd-44ac-8a53-bca939bf93c6",
   "metadata": {},
   "source": [
    "Simply print the best-fitted parameter obtained from `PyDE`"
   ]
  },
  {
   "cell_type": "code",
   "execution_count": null,
   "id": "99228f06-c176-481a-ac0c-4d9fecdcb584",
   "metadata": {},
   "outputs": [],
   "source": [
    "de.de_par"
   ]
  },
  {
   "cell_type": "markdown",
   "id": "76db38f0-85b2-477a-9023-fa972c1f908b",
   "metadata": {},
   "source": [
    "Prepare plots output folder within `run_folder`"
   ]
  },
  {
   "cell_type": "code",
   "execution_count": null,
   "id": "b6cc008c-600d-469f-831f-80bcac0e9603",
   "metadata": {},
   "outputs": [],
   "source": [
    "plot_folder = os.path.join(\n",
    "    run_folder,\n",
    "    \"plots\"\n",
    ")\n",
    "os.makedirs(plot_folder, exist_ok=True)"
   ]
  },
  {
   "cell_type": "markdown",
   "id": "2780bf41-9c1c-4305-a124-7e98e3ef9235",
   "metadata": {},
   "source": [
    "Prepare labels, you can provides values to overplot, here defined as `true_pars` dictionary, set it to `None` if you do not want to overplot it"
   ]
  },
  {
   "cell_type": "code",
   "execution_count": null,
   "id": "4f657be4-2471-4c8a-9ab2-7a07a35b4013",
   "metadata": {},
   "outputs": [],
   "source": [
    "true_pars = {k: None for k in de.par_names}\n",
    "\n",
    "p = [\"mass\", \"P\", \"ecc\"]\n",
    "npl = [2,3]\n",
    "for pp in p:\n",
    "    for nn in npl:\n",
    "        k = \"{}{}\".format(pp, nn)\n",
    "        true_pars[k] = None"
   ]
  },
  {
   "cell_type": "code",
   "execution_count": null,
   "id": "3729623d-4c79-4b9d-acad-c417ba95595c",
   "metadata": {},
   "outputs": [],
   "source": [
    "thinning = 100 # plot only every `thinning` iterations\n",
    "perc_max = 50 # scale the fitness with lower value the `perc_max`-th percentile, e.g. `perc_max = 50` is the median"
   ]
  },
  {
   "cell_type": "code",
   "execution_count": null,
   "id": "da12bec5-f4d8-41de-8b2c-d055b0ef00c2",
   "metadata": {},
   "outputs": [],
   "source": [
    "for i_k, k in enumerate(true_pars.keys()):\n",
    "    try:\n",
    "        print(k)\n",
    "        fig = de.evolution_plot_one_par(\n",
    "            k,\n",
    "            true_pars_dictionary=true_pars,\n",
    "            thin_iter=100, \n",
    "            percentile_max=50\n",
    "        )\n",
    "        plt.show()\n",
    "        fout = os.path.join(\n",
    "            plot_folder,\n",
    "            \"00de_{:02d}_{}.png\".format(i_k, k)\n",
    "        )\n",
    "        print(fout)\n",
    "        fig.savefig(fout)\n",
    "        plt.close(fig)\n",
    "    except:\n",
    "        print(\"Not present parameter {}\".format(k))"
   ]
  },
  {
   "cell_type": "markdown",
   "id": "9c1bbf6d-f54e-4d62-83cd-9195a50544e5",
   "metadata": {},
   "source": [
    "Now we want to take the best-fit `PyDE` parameter and run `TRADES` and creates integration output files.  \n",
    "Init the `TRADES` object, provides `run_folder`"
   ]
  },
  {
   "cell_type": "code",
   "execution_count": null,
   "id": "aa0e5df3-1129-45a1-bdf7-8e5ef3e2d935",
   "metadata": {},
   "outputs": [],
   "source": [
    "sim = pytrades.TRADESfolder(run_folder)"
   ]
  },
  {
   "cell_type": "markdown",
   "id": "6c662ff9-cfeb-44f3-9e2e-69b2fbd8e96f",
   "metadata": {},
   "source": [
    "The `run_folder` has to have all the needed files by TRADES (see README file).  \n",
    "Init `TRADES` parameters, constants, and data."
   ]
  },
  {
   "cell_type": "code",
   "execution_count": null,
   "id": "88945890-7c61-44ff-ac42-d51e8166ab04",
   "metadata": {},
   "outputs": [],
   "source": [
    "sim.init_trades()"
   ]
  },
  {
   "cell_type": "markdown",
   "id": "cebdf504-ac98-4017-b801-67021ace647b",
   "metadata": {},
   "source": [
    "Let's define some info for the naming of the simulation and brief description:  \n",
    "- `id_sim = 6` id numbering of the simulation, used for the unit of fortran file management, usually I would use 6 for `PyDE`  \n",
    "- `sim_name = \"de\"` give a short simulation name\n",
    "- `full_sim_name = \"{:04d}_sim_{:s}\".format(id_sim, sim_name)` full simulation name based on the `id_sim` and `sim_name`  \n",
    "- `par_desc = \"best-fit parameters from DE\"` description of the simulation, it will appear in the `summary_parameters.dat` file"
   ]
  },
  {
   "cell_type": "code",
   "execution_count": null,
   "id": "535c294d-a070-434e-a4ba-8de81d8c1119",
   "metadata": {},
   "outputs": [],
   "source": [
    "id_sim = 6\n",
    "sim_name = \"de\"\n",
    "full_sim_name = \"{:04d}_sim_{:s}\".format(id_sim, sim_name)\n",
    "out_folder = os.path.join(os.path.join(sim.full_path, full_sim_name), \"\")\n",
    "os.makedirs(out_folder, exist_ok=True)\n",
    "\n",
    "par_desc = \"best-fit parameters from DE\"\n",
    "\n",
    "# convert the fitted parametrs into physical ones\n",
    "_, de_phy, _, _ = anc.compute_physical_parameters(\n",
    "    sim.n_bodies,\n",
    "    de.de_par,\n",
    "    sim.fitting_names,\n",
    "    sim.system_parameters, # this is a vector used internally by TRADES and it is set by the files in the main folder\n",
    "    mass_conv_factor=sim.m_factor,\n",
    "    radius_conv_factor=sim.r_factor,\n",
    ")"
   ]
  },
  {
   "cell_type": "markdown",
   "id": "3d88a84d-9355-444f-acaf-8fae1039c372",
   "metadata": {},
   "source": [
    "Run `TRADES` simulation and write output files (based on `configuration.yml` and `args.in` files).  \n",
    "The function will return some statistics on the simulation, based on the parameter `de.de_par` provided:  \n",
    "\n",
    "- `chi_square` $= \\chi^{2}$ where the denominator, i.e. $\\sigma^{2}$ is the sum in quadrature of the data error and of the RV jitters  \n",
    "- `reduced_chi_square` $= \\chi^{2}_\\mathrm{r} = \\chi^{2}/\\mathrm{dof}$ reduced chi square with `dof = ndata - nfit` degrees of freedom  \n",
    "- `lgllhd` $= \\log \\mathcal{L}$ log-likelihood  \n",
    "- `lnprior` log-prior, if `priors.in` has no lines it will be 0.0  \n",
    "- `ln_const` log-constant, depends on $2\\pi$ and $\\sigma$, already in the $\\log \\mathcal{L}$  \n",
    "- `bic` $= -2\\log\\mathcal{L} + \\mathrm{nfit}\\times\\log \\mathrm{ndata}$ Bayesian Information Criterion  \n",
    "- `check` parameter equal to `1/True` if simulation had no issue, else `0/False` for issues, such close encounters, out-of-boundaries, not physical parameters etc.  \n",
    "\n",
    "The function can return nothing if `return_stats=False`."
   ]
  },
  {
   "cell_type": "code",
   "execution_count": null,
   "id": "bb394f05-69ca-46e2-be8b-74de9b9cea7d",
   "metadata": {},
   "outputs": [],
   "source": [
    "(\n",
    "    chi_square,\n",
    "    reduced_chi_square,\n",
    "    lgllhd,\n",
    "    lnprior,\n",
    "    ln_const,\n",
    "    bic,\n",
    "    check,\n",
    ") = sim.run_and_write_summary_files(\n",
    "    full_sim_name,\n",
    "    de.de_par,\n",
    "    de_phy,\n",
    "    id_sim=id_sim,\n",
    "    sigma_fit=None,\n",
    "    sigma_phy=None,\n",
    "    par_description=par_desc,\n",
    "    return_stats=True,\n",
    ")"
   ]
  },
  {
   "cell_type": "markdown",
   "id": "a48d10e3-bb92-43d2-8a0c-cdcd5ff05380",
   "metadata": {},
   "source": [
    "The previous cell run `TRADES` and creates a subfolder with files that we can read and plot outputs:  \n",
    "Let's start with the Transit times: O-C diagram"
   ]
  },
  {
   "cell_type": "code",
   "execution_count": null,
   "id": "63cd8aec-84a0-4688-a0f5-19b55c62ca33",
   "metadata": {},
   "outputs": [],
   "source": [
    "from pytrades import plot_oc as poc"
   ]
  },
  {
   "cell_type": "markdown",
   "id": "1a96c4bb-a4a9-4c5e-8752-cbefce649780",
   "metadata": {},
   "source": [
    "Define the configuration object for the O-C plot"
   ]
  },
  {
   "cell_type": "code",
   "execution_count": null,
   "id": "18f09e74-e770-4557-ba70-16f08fbbdd2d",
   "metadata": {},
   "outputs": [],
   "source": [
    "oc_obj = poc.CLI_OC(\n",
    "    full_path=os.path.join(sim.full_path, full_sim_name),\n",
    "    idsim=6,\n",
    "    lmflag=0, # keep it set to 0, needed for backward-compatibility with fortran binaries\n",
    "    tscale=0.0, # value to subtract to x-axis, for the plot\n",
    "    plot_title=False, # automatic title plot (True), or nothing (False) \n",
    "    ocunit='auto', # automatically determine best unit for the O-C y-axis, set \"d\", \"m\", \"s\" for days, minutes, and seconds respectively.\n",
    "    samples_file=None, # here set it to None, you do not have a sample files generated from emcee now\n",
    "    plot_samples= \"ci\", # not neede, no samples at this stage\n",
    "    limits='obs', # scale limits to the observations obs or samples smp\n",
    "    kep_ele=False, # default False, it creates a further plot of the keplerian elements for each T0\n",
    "    linear_ephemeris=None, # input linear_ephemeris, here like a dict {2: {\"Tref\":[val, sigma], \"Pref\":[val, sigma]}}, default compute it internally\n",
    "    legend=\"in\", # where place legend, inside (in), outside (out), or no legend (none, not, as you want)\n",
    "    idsource_name=None, # none, one color for everything, otherwise a dict {1: \"Kepler\", 2: \"TESS\", 3:\"CHEOPS\"}, numbers have to match source_id in input file\n",
    "    color_map=\"nipy_spectral\", # a cmap, a color, or dict {1: \"C0\", 2: \"red\", 3: [0.2, 0.4, 0, 1.0]}\n",
    ")"
   ]
  },
  {
   "cell_type": "markdown",
   "id": "10e8db5d-8fb3-4cbc-9f9a-cdd61d773e16",
   "metadata": {},
   "source": [
    "Get the output T0s files  "
   ]
  },
  {
   "cell_type": "code",
   "execution_count": null,
   "id": "6f77f579-a31d-4119-8e3f-3330a56d7bdc",
   "metadata": {},
   "outputs": [],
   "source": [
    "T0s_files = poc.get_simT0_file_list(oc_obj)"
   ]
  },
  {
   "cell_type": "markdown",
   "id": "127c7e09-ea3f-4f6f-a6ae-90490fa39eec",
   "metadata": {},
   "source": [
    "For each T0 file do the plot.  \n",
    "By default it assumes that the planets are in this order:  \n",
    "\n",
    "body_id | planet_name  \n",
    "--------|------------\n",
    "2       | b  \n",
    "3       | c  \n",
    "\n",
    "Provides a new `planet_name` for each `body_id`\n"
   ]
  },
  {
   "cell_type": "code",
   "execution_count": null,
   "id": "ab1a39f6-c941-48bb-bacd-0e83391de658",
   "metadata": {},
   "outputs": [],
   "source": [
    "for body_id, f in T0s_files.items():\n",
    "    print(f)\n",
    "    fig = poc.plot_oc_T41(\n",
    "        oc_obj,\n",
    "        f,\n",
    "        planet_name=None,\n",
    "        samples=None,\n",
    "        figsize=(5, 5),\n",
    "        save_plot=True,\n",
    "        show_plot=True,\n",
    "    )\n",
    "    plt.close(fig)"
   ]
  },
  {
   "cell_type": "code",
   "execution_count": null,
   "id": "8bd67ab8-cf00-4e13-b21a-abfe6209526b",
   "metadata": {},
   "outputs": [],
   "source": []
  }
 ],
 "metadata": {
  "kernelspec": {
   "display_name": "Python 3 (ipykernel)",
   "language": "python",
   "name": "python3"
  },
  "language_info": {
   "codemirror_mode": {
    "name": "ipython",
    "version": 3
   },
   "file_extension": ".py",
   "mimetype": "text/x-python",
   "name": "python",
   "nbconvert_exporter": "python",
   "pygments_lexer": "ipython3",
   "version": "3.10.15"
  }
 },
 "nbformat": 4,
 "nbformat_minor": 5
}
