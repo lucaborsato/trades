{
 "cells": [
  {
   "cell_type": "markdown",
   "id": "0b5b25df-e49d-44f0-a734-18d81f3a5ba3",
   "metadata": {},
   "source": [
    "# TRADES CHAINS PLOTS"
   ]
  },
  {
   "cell_type": "code",
   "execution_count": null,
   "id": "75274157-5e85-4da5-a631-abf6b91e9260",
   "metadata": {},
   "outputs": [],
   "source": [
    "import numpy as np\n",
    "import os\n",
    "import sys"
   ]
  },
  {
   "cell_type": "code",
   "execution_count": null,
   "id": "cc101bd6-f423-4b50-bd40-ef0b68529410",
   "metadata": {},
   "outputs": [],
   "source": [
    "\n",
    "from pytrades import pytrades # this import a python module, not the F90 module!\n",
    "from pytrades import ancillary as anc\n",
    "from pytrades import constants as cst\n",
    "from pytrades.convergence import full_statistics, log_probability_trace\n",
    "\n",
    "emcee_analysis_path = os.path.dirname(\n",
    "    os.path.abspath(\"/path/to/trades_emcee_analysis.py\")\n",
    ")\n",
    "sys.path.append(emcee_analysis_path)\n",
    "import trades_emcee_analysis as pyta"
   ]
  },
  {
   "cell_type": "code",
   "execution_count": null,
   "id": "c6c679be-cdd4-4460-b8e4-95d50724ecd4",
   "metadata": {},
   "outputs": [],
   "source": [
    "import matplotlib.pyplot as plt\n",
    "# %matplotlib inline\n",
    "anc.set_rcParams()"
   ]
  },
  {
   "cell_type": "markdown",
   "id": "9cbd4dcd-d004-4c10-a69d-0f3078839497",
   "metadata": {},
   "source": [
    "Paths"
   ]
  },
  {
   "cell_type": "code",
   "execution_count": null,
   "id": "bf6afdb7-01f1-4aec-ac74-9ba6ff0b326f",
   "metadata": {},
   "outputs": [],
   "source": [
    "exo_path = os.path.abspath(\n",
    "    \"/path/to/exoplanet/system/folder\"\n",
    ")\n",
    "\n",
    "exo_sim = os.path.join(\n",
    "    exo_path,\n",
    "    \"simulation_folder\",\n",
    ")"
   ]
  },
  {
   "cell_type": "markdown",
   "id": "0045a700-e778-4c2c-a250-22e0fd60e7f3",
   "metadata": {},
   "source": [
    "Read configuration file that has to have `analysis` section"
   ]
  },
  {
   "cell_type": "code",
   "execution_count": null,
   "id": "79d3a8a7-94de-4137-8e54-05e4b92aa820",
   "metadata": {},
   "outputs": [],
   "source": [
    "yml_file = os.path.join(\n",
    "    exo_sim,\n",
    "    \"configuration.yml\"\n",
    ")\n",
    "cli = anc.ConfigurationAnalysis(yml_file)"
   ]
  },
  {
   "cell_type": "markdown",
   "id": "f99ed3b6-5116-4fdd-a16a-c2f6ca491437",
   "metadata": {},
   "source": [
    "Change parameters of Configuration Object, such as the `thinning`:"
   ]
  },
  {
   "cell_type": "code",
   "execution_count": null,
   "id": "7375e348-b0e1-4329-b850-074ef062278e",
   "metadata": {},
   "outputs": [],
   "source": [
    "cli.use_thin = 100"
   ]
  },
  {
   "cell_type": "markdown",
   "id": "5791ea4d-e9a4-4158-9e93-4e90dac5e0ec",
   "metadata": {},
   "source": [
    "Set the analysis from the Configuration Object"
   ]
  },
  {
   "cell_type": "code",
   "execution_count": null,
   "id": "329e6aac-1ede-4021-b567-e5df18730dc0",
   "metadata": {},
   "outputs": [],
   "source": [
    "analysis = pyta.AnalysisTRADES(cli)\n",
    "conf_run = anc.ConfigurationRun(cli.yaml_file)"
   ]
  },
  {
   "cell_type": "code",
   "execution_count": null,
   "id": "8bd67ab8-cf00-4e13-b21a-abfe6209526b",
   "metadata": {},
   "outputs": [],
   "source": [
    "logs_folder = os.path.join(cli.full_path, \"logs\")\n",
    "os.makedirs(logs_folder, exist_ok=True)\n",
    "plots_folder = os.path.join(cli.full_path, \"plots_{}thin\".format(cli.use_thin))\n",
    "os.makedirs(plots_folder, exist_ok=True)\n",
    "\n",
    "anc.print_both(\"\\nPlotting chains/convergence ... \")\n",
    "\n",
    "# ===== LOG-PROB TRACE plot ===== #\n",
    "log_probability_trace(\n",
    "    analysis.lnprobability_full_thinned, \n",
    "    analysis.lnprob_posterior, \n",
    "    plots_folder, \n",
    "    n_burn=cli.nburnin,\n",
    "    n_thin=conf_run.thin_by,\n",
    "    show_plot=False, \n",
    "    figsize=(6, 6)\n",
    ")\n",
    "\n",
    "# ===== CONVERGENCE ===== #\n",
    "par_file = os.path.join(cli.full_path, \"summary_parameters.hdf5\")\n",
    "stats_file = os.path.join(logs_folder, \"convergence_stats.logs\")\n",
    "overplot = anc.set_overplot(cli.overplot)\n",
    "with open(stats_file, 'w') as olog:\n",
    "    with h5py.File(par_file, \"r\") as s_h5f:\n",
    "        l = \"fitted\"\n",
    "        if overplot is not None:\n",
    "            sim_id_str = \"{}\".format(overplot)\n",
    "            overp_par = s_h5f[\"parameters/{:s}/{:s}/parameters\".format(sim_id_str, l)][\n",
    "                ...\n",
    "            ]\n",
    "        else:\n",
    "            overp_par = analysis.fitting_posterior[np.argmax(analysis.lnprob_posterior), :]\n",
    "        exp_acf_fit, exp_steps_fit = full_statistics(\n",
    "            analysis.chains_full_thinned,\n",
    "            analysis.fitting_posterior,\n",
    "            analysis.fitting_names,\n",
    "            overp_par,\n",
    "            analysis.lnprob_posterior,\n",
    "            plots_folder,\n",
    "            olog=olog,\n",
    "            ilast=0,\n",
    "            n_burn=cli.nburnin,\n",
    "            n_thin=conf_run.thin_by,\n",
    "            show_plot=False,\n",
    "            figsize=(6, 6),\n",
    "        )\n",
    "        \n",
    "        l = \"physical\"\n",
    "        if overplot is not None:\n",
    "            sim_id_str = \"{}\".format(overplot)\n",
    "            overp_par = s_h5f[\"parameters/{:s}/{:s}/parameters\".format(sim_id_str, l)][\n",
    "                ...\n",
    "            ]\n",
    "        else:\n",
    "            overp_par = analysis.physical_posterior[np.argmax(analysis.lnprob_posterior), :]\n",
    "        exp_acf_phy, exp_steps_phy = full_statistics(\n",
    "            analysis.physical_chains,\n",
    "            analysis.physical_posterior,\n",
    "            analysis.physical_names,\n",
    "            overp_par,\n",
    "            analysis.lnprob_posterior,\n",
    "            plots_folder,\n",
    "            olog=olog,\n",
    "            ilast=analysis.sim.nfit,\n",
    "            n_burn=cli.nburnin,\n",
    "            n_thin=conf_run.thin_by,\n",
    "            show_plot=False,\n",
    "            figsize=(6, 6),\n",
    "        )\n",
    "    anc.print_both(\"\", output=olog)\n",
    "    anc.print_both(\n",
    "        \"All expected steps   for each parameter needed to reach full convergence:\\n{}\".format(\n",
    "            exp_steps_fit\n",
    "        ),\n",
    "        output=olog,\n",
    "    )\n",
    "    anc.print_both(\n",
    "        \"All expected ACF len for each parameter needed to reach full convergence:\\n{}\".format(\n",
    "            exp_acf_fit\n",
    "        ),\n",
    "        output=olog,\n",
    "    )\n",
    "    imax_acf = np.argmax(exp_acf_fit)\n",
    "    anc.print_both(\n",
    "        \"MAX ACF = {} ==> needed chains of {} steps\\n\".format(\n",
    "            exp_acf_fit[imax_acf], exp_steps_fit[imax_acf]\n",
    "        ),\n",
    "        output=olog,\n",
    "    )"
   ]
  },
  {
   "cell_type": "code",
   "execution_count": null,
   "id": "0b6de41e-ace0-4622-8734-7fa749b40ea1",
   "metadata": {},
   "outputs": [],
   "source": []
  }
 ],
 "metadata": {
  "kernelspec": {
   "display_name": "Python 3 (ipykernel)",
   "language": "python",
   "name": "python3"
  },
  "language_info": {
   "codemirror_mode": {
    "name": "ipython",
    "version": 3
   },
   "file_extension": ".py",
   "mimetype": "text/x-python",
   "name": "python",
   "nbconvert_exporter": "python",
   "pygments_lexer": "ipython3",
   "version": "3.10.8"
  }
 },
 "nbformat": 4,
 "nbformat_minor": 5
}
