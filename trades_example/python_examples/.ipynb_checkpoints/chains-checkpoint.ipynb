{
 "cells": [
  {
   "cell_type": "markdown",
   "id": "0b5b25df-e49d-44f0-a734-18d81f3a5ba3",
   "metadata": {},
   "source": [
    "# TRADES CHAINS PLOTS"
   ]
  },
  {
   "cell_type": "code",
   "execution_count": null,
   "id": "75274157-5e85-4da5-a631-abf6b91e9260",
   "metadata": {},
   "outputs": [],
   "source": [
    "import numpy as np\n",
    "import os\n",
    "import sys"
   ]
  },
  {
   "cell_type": "code",
   "execution_count": null,
   "id": "cc101bd6-f423-4b50-bd40-ef0b68529410",
   "metadata": {},
   "outputs": [],
   "source": [
    "# change accordingly to you pytrades path\n",
    "trades_path = os.path.abspath(\"/path/to/trades/\")\n",
    "pytrades_path = os.path.join(trades_path, \"pytrades\")\n",
    "sys.path.append(pytrades_path)\n",
    "import ancillary as anc\n",
    "import constants as cst\n",
    "\n",
    "import trades_emcee_analysis as pyta\n",
    "# import chains_summary_plot as csp\n",
    "import pytrades # this import a python module, not the F90 module!"
   ]
  },
  {
   "cell_type": "code",
   "execution_count": null,
   "id": "c6c679be-cdd4-4460-b8e4-95d50724ecd4",
   "metadata": {},
   "outputs": [],
   "source": [
    "import matplotlib.pyplot as plt\n",
    "%matplotlib inline\n",
    "anc.set_rcParams()"
   ]
  },
  {
   "cell_type": "markdown",
   "id": "9cbd4dcd-d004-4c10-a69d-0f3078839497",
   "metadata": {},
   "source": [
    "Paths"
   ]
  },
  {
   "cell_type": "code",
   "execution_count": null,
   "id": "bf6afdb7-01f1-4aec-ac74-9ba6ff0b326f",
   "metadata": {},
   "outputs": [],
   "source": [
    "exo_path = os.path.abspath(\n",
    "    \"/path/to/exoplanet/system/folder\"\n",
    ")\n",
    "\n",
    "exo_sim = os.path.join(\n",
    "    exo_path,\n",
    "    \"simulation_folder\",\n",
    ")"
   ]
  },
  {
   "cell_type": "markdown",
   "id": "0045a700-e778-4c2c-a250-22e0fd60e7f3",
   "metadata": {},
   "source": [
    "Read configuration file that has to have `analysis` section"
   ]
  },
  {
   "cell_type": "code",
   "execution_count": null,
   "id": "79d3a8a7-94de-4137-8e54-05e4b92aa820",
   "metadata": {},
   "outputs": [],
   "source": [
    "yml_file = os.path.join(\n",
    "    exo_sim,\n",
    "    \"configuration_cheops.yml\"\n",
    ")\n",
    "cli = anc.ConfigurationAnalysis(yml_file)"
   ]
  },
  {
   "cell_type": "markdown",
   "id": "f99ed3b6-5116-4fdd-a16a-c2f6ca491437",
   "metadata": {},
   "source": [
    "Change parameters of Configuration Object, such as the `thinning`:"
   ]
  },
  {
   "cell_type": "code",
   "execution_count": null,
   "id": "7375e348-b0e1-4329-b850-074ef062278e",
   "metadata": {},
   "outputs": [],
   "source": [
    "cli.use_thin = 100"
   ]
  },
  {
   "cell_type": "markdown",
   "id": "5791ea4d-e9a4-4158-9e93-4e90dac5e0ec",
   "metadata": {},
   "source": [
    "Set the analysis from the Configuration Object"
   ]
  },
  {
   "cell_type": "code",
   "execution_count": null,
   "id": "329e6aac-1ede-4021-b567-e5df18730dc0",
   "metadata": {},
   "outputs": [],
   "source": [
    "analysis = pyta.AnalysisTRADES(cli)"
   ]
  },
  {
   "cell_type": "code",
   "execution_count": null,
   "id": "8bd67ab8-cf00-4e13-b21a-abfe6209526b",
   "metadata": {},
   "outputs": [],
   "source": [
    "logs_folder = os.path.join(cli.full_path, \"logs\")\n",
    "os.makedirs(logs_folder, exist_ok=True)\n",
    "plots_folder = os.path.join(cli.full_path, \"plots_{}thin\".format(cli.use_thin))\n",
    "os.makedirs(plots_folder, exist_ok=True)\n",
    "\n",
    "import chains_summary_plot as csp\n",
    "import importlib\n",
    "importlib.reload(csp)\n",
    "\n",
    "anc.print_both(\"\\nPlotting chains ... \")\n",
    "csp.plot_chains(\n",
    "    cli,\n",
    "    logs_folder,\n",
    "    plots_folder,\n",
    "    analysis.fitting_posterior,\n",
    "    analysis.chains_full_thinned, # it has the burn-in and thinned at needs\n",
    "    analysis.lnprobability_posterior,\n",
    "    analysis.lnprobability_full_thinned,\n",
    "    analysis.fitting_names,\n",
    "    analysis.thin_steps,\n",
    "    analysis.sim.fitting_minmax,\n",
    "    show_plots=True\n",
    ")"
   ]
  },
  {
   "cell_type": "code",
   "execution_count": null,
   "id": "0b6de41e-ace0-4622-8734-7fa749b40ea1",
   "metadata": {},
   "outputs": [],
   "source": []
  }
 ],
 "metadata": {
  "kernelspec": {
   "display_name": "Python 3 (ipykernel)",
   "language": "python",
   "name": "python3"
  },
  "language_info": {
   "codemirror_mode": {
    "name": "ipython",
    "version": 3
   },
   "file_extension": ".py",
   "mimetype": "text/x-python",
   "name": "python",
   "nbconvert_exporter": "python",
   "pygments_lexer": "ipython3",
   "version": "3.10.8"
  }
 },
 "nbformat": 4,
 "nbformat_minor": 5
}
