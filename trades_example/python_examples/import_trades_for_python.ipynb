{
 "cells": [
  {
   "cell_type": "markdown",
   "id": "7b651e45-b3c6-4a2b-80a9-92c6d2e6ea11",
   "metadata": {},
   "source": [
    "# TRADES FROM PYTHON"
   ]
  },
  {
   "cell_type": "code",
   "execution_count": 1,
   "id": "241bee9b-4904-4bcf-bede-64c9dd3479e9",
   "metadata": {},
   "outputs": [],
   "source": [
    "import numpy as np  # array\n",
    "import os\n",
    "import sys\n",
    "import time as timer"
   ]
  },
  {
   "cell_type": "markdown",
   "id": "3415a7c1-6cfe-4b37-8baf-a217d5faf155",
   "metadata": {},
   "source": [
    "Add `pytrades` folder"
   ]
  },
  {
   "cell_type": "code",
   "execution_count": 2,
   "id": "a0001672-42de-4c43-a072-4c32bc3c22a5",
   "metadata": {},
   "outputs": [],
   "source": [
    "trades_path = os.path.abspath(\"/data1/borsato/code/local_trades/trades_dev_y/\")\n",
    "pytrades_path = os.path.join(trades_path, \"pytrades\")\n",
    "sys.path.append(pytrades_path)\n",
    "import pytrades\n",
    "import constants as cst\n",
    "import ancillary as anc"
   ]
  },
  {
   "cell_type": "markdown",
   "id": "a74ef1d5-ad72-40d2-a831-a78fd666a474",
   "metadata": {},
   "source": [
    "## integration parameters"
   ]
  },
  {
   "cell_type": "code",
   "execution_count": 3,
   "id": "64906657-8005-43b9-a124-e4a18c08720d",
   "metadata": {},
   "outputs": [],
   "source": [
    "t_start = 2454965.0 # start time of the integration\n",
    "t_epoch = 2455088.212 # reference time of the orbital parameters\n",
    "t_int   = 500.0 # total integration time from the start time\n",
    "\n",
    "n_body = 3 # number of bodies (NOT PLANETS) in the system, that is star + planets\n",
    "duration_check = 1 # to check or not the duration in this case it is a return flag, 1 means return it"
   ]
  },
  {
   "cell_type": "markdown",
   "id": "5d3f737e-5adc-4e00-bcec-3a73898da746",
   "metadata": {},
   "source": [
    "set the integration arguments:  \n",
    "- `n_body` **mandatory**  \n",
    "- `duration_check` **mandatory**  \n",
    "- `t_start` **optional**  \n",
    "- `t_epoch` **optional**  \n",
    "- `t_int` **optional**  "
   ]
  },
  {
   "cell_type": "code",
   "execution_count": 4,
   "id": "c6bfb199-3852-471d-903b-5bf071a4df45",
   "metadata": {},
   "outputs": [],
   "source": [
    "# without setting global value for t_start, t_epoch, t_int:\n",
    "pytrades.args_init(\n",
    "    n_body, \n",
    "    duration_check,\n",
    "    t_epoch=None,\n",
    "    t_start=None,\n",
    "    t_int=None,\n",
    ")\n",
    "# or setting them\n",
    "# pytrades.args_init(\n",
    "#     n_body, \n",
    "#     duration_check,\n",
    "#     t_epoch=t_epoch,\n",
    "#     t_start=t_start,\n",
    "#     t_int=t_int,\n",
    "# )\n"
   ]
  },
  {
   "cell_type": "markdown",
   "id": "1d0178bf-d412-4849-bfa7-40a80905b4bd",
   "metadata": {},
   "source": [
    "## RV  \n",
    "provides radial velocities info: time, rv (m/s), and error_rv (m/s)"
   ]
  },
  {
   "cell_type": "code",
   "execution_count": 5,
   "id": "9eabdf25-7c6a-4918-ba06-4df7120a77f4",
   "metadata": {},
   "outputs": [
    {
     "name": "stdout",
     "output_type": "stream",
     "text": [
      "Defined RVs with n_rv =  6\n"
     ]
    }
   ],
   "source": [
    "t_rv = np.array([\n",
    "    2455342.947836,\n",
    "    2455344.061419,\n",
    "    2455351.037415,\n",
    "    2455352.011289,\n",
    "    2455367.083543,\n",
    "    2455376.930532,\n",
    "])\n",
    "rv_obs = np.array([\n",
    "    17.15,\n",
    "    2.23,\n",
    "    -7.89,\n",
    "    -4.61,\n",
    "    -25.45,\n",
    "    17.39,\n",
    "])\n",
    "erv_obs = np.array([\n",
    "    2.51,\n",
    "    2.74,\n",
    "    2.36,\n",
    "    2.21,\n",
    "    2.49,\n",
    "    2.61,\n",
    "])\n",
    "# rv_data = np.column_stack((t_rv, rv_obs, erv_obs))\n",
    "n_rv = len(t_rv)\n",
    "\n",
    "rv_setid = np.ones((n_rv)).astype(int)\n",
    "n_rvset = len(np.unique(rv_setid))\n",
    "print(\"Defined RVs with n_rv = \", n_rv)"
   ]
  },
  {
   "cell_type": "markdown",
   "id": "6b03d015-8622-41bd-9ff9-cbf9e43c8312",
   "metadata": {},
   "source": [
    "deallocation, this is a test, but the next fuction should deallocate RV data before re-allocate them"
   ]
  },
  {
   "cell_type": "code",
   "execution_count": 6,
   "id": "60b6824c-f8c3-4c10-99a7-db866e958f8f",
   "metadata": {},
   "outputs": [],
   "source": [
    "pytrades.deallocate_rv_dataset()"
   ]
  },
  {
   "cell_type": "markdown",
   "id": "ec7cdca6-6d98-402a-a38a-b5edbafef217",
   "metadata": {},
   "source": [
    "add the RV dataset to the common variable of TRADES"
   ]
  },
  {
   "cell_type": "code",
   "execution_count": 7,
   "id": "5f821a40-0b81-4d13-ac08-a23272a8be1b",
   "metadata": {},
   "outputs": [],
   "source": [
    "pytrades.set_rv_dataset(t_rv, rv_obs, erv_obs, rv_setid=rv_setid, n_rvset=n_rvset)"
   ]
  },
  {
   "cell_type": "markdown",
   "id": "fffb1989-a458-47ca-9c49-0831a27705ef",
   "metadata": {},
   "source": [
    "## TOs of planet b\n",
    "define transit times (T0s) of planet b, that will be the `2nd` body, where the `1st` body is the star!"
   ]
  },
  {
   "cell_type": "code",
   "execution_count": 8,
   "id": "9bb9e32e-b804-4a7a-9276-978025f234df",
   "metadata": {},
   "outputs": [],
   "source": [
    "epo_b = np.array([\n",
    "    -5,\n",
    "    -4,\n",
    "    -2,\n",
    "    -1,\n",
    "    0,\n",
    "    2,\n",
    "    3,\n",
    "    4,\n",
    "    5,\n",
    "])\n",
    "\n",
    "t0_b = np.array([\n",
    "    2454977.24875,\n",
    "    2454996.48240,\n",
    "    2455034.95437,\n",
    "    2455054.19058,\n",
    "    2455073.43412,\n",
    "    2455111.92589,\n",
    "    2455131.17167,\n",
    "    2455150.42951,\n",
    "    2455169.68103,\n",
    "])\n",
    "\n",
    "et0_b = np.array([\n",
    "    0.00059,\n",
    "    0.00062,\n",
    "    0.00052,\n",
    "    0.00052,\n",
    "    0.00072,\n",
    "    0.00050,\n",
    "    0.00048,\n",
    "    0.00048,\n",
    "    0.00046,\n",
    "])\n",
    "\n",
    "# t0b_data = np.column_stack((epo_b, t0_b, et0_b))\n",
    "n_t0b = len(t0_b)\n",
    "\n",
    "body_id = 2 # fortran numbering starting with 1 == star"
   ]
  },
  {
   "cell_type": "markdown",
   "id": "9f3d17fc-d683-4a40-ad44-98f880c3a994",
   "metadata": {},
   "source": [
    "add transits of planet b to the common variable of TRADES"
   ]
  },
  {
   "cell_type": "code",
   "execution_count": 9,
   "id": "e9b7f120-1664-41f5-a1d7-f901a0b62b9b",
   "metadata": {},
   "outputs": [],
   "source": [
    "pytrades.set_t0_dataset(body_id, epo_b, t0_b, et0_b)"
   ]
  },
  {
   "cell_type": "markdown",
   "id": "614f8a78-25c7-4cef-b13e-2028d0763c60",
   "metadata": {},
   "source": [
    "## T0s planet c\n",
    "define T0s for planet c, that is `3rd` body"
   ]
  },
  {
   "cell_type": "code",
   "execution_count": 10,
   "id": "90fd9da1-b92a-4291-ad8b-0d845134dfa9",
   "metadata": {},
   "outputs": [],
   "source": [
    "epo_c = np.array([\n",
    "    -3,\n",
    "    -2,\n",
    "    -1,\n",
    "    0,\n",
    "    1,\n",
    "    2,\n",
    "])\n",
    "\n",
    "t0_c = np.array([\n",
    "    2454969.30577,\n",
    "    2455008.33086,\n",
    "    2455047.33560,\n",
    "    2455086.31251,\n",
    "    2455125.26284,\n",
    "    2455164.18168,\n",
    "])\n",
    "et0_c = np.array([\n",
    "    0.00070,\n",
    "    0.00061,\n",
    "    0.00058,\n",
    "    0.00059,\n",
    "    0.00053,\n",
    "    0.00055,\n",
    "])\n",
    "# t0c_data = np.column_stack((epo_c, t0_c, et0_c))\n",
    "n_t0c = len(t0_c)\n",
    "\n",
    "body_id = 3 # fortran numbering starting with 1 == star"
   ]
  },
  {
   "cell_type": "markdown",
   "id": "095f5baa-36f8-4ef2-b79e-add324feb0d6",
   "metadata": {},
   "source": [
    "add transits of planet c to the common variable of TRADES"
   ]
  },
  {
   "cell_type": "code",
   "execution_count": 11,
   "id": "cb35d626-8c3e-40e8-9e8f-93062f202832",
   "metadata": {},
   "outputs": [],
   "source": [
    "pytrades.set_t0_dataset(body_id, epo_c, t0_c, et0_c)"
   ]
  },
  {
   "cell_type": "markdown",
   "id": "24e03d4c-e31a-4b89-b269-48ba869a5c5e",
   "metadata": {},
   "source": [
    "if you try to repeat the `set_t0_dataset` it will deallocate and reallocate the data ... hopefully :)"
   ]
  },
  {
   "cell_type": "code",
   "execution_count": 12,
   "id": "85d1d429-d6f5-4fb6-9cdd-0d16ee29aee4",
   "metadata": {},
   "outputs": [],
   "source": [
    "pytrades.set_t0_dataset(body_id, epo_c, t0_c, et0_c) # yes it works..."
   ]
  },
  {
   "cell_type": "markdown",
   "id": "1e7f828d-f084-4c78-bf68-90c0c17bb665",
   "metadata": {},
   "source": [
    "## define the orbital parameter of system at the `t_epoch`"
   ]
  },
  {
   "cell_type": "code",
   "execution_count": 13,
   "id": "c3d32575-c35c-4870-9674-5c844628fe96",
   "metadata": {},
   "outputs": [],
   "source": [
    "# parameter = array([star, planet b, planet c]) = array([body_1, body_2, body_3])\n",
    "M_msun   = np.array([1.0, 0.136985 * cst.Mjups, 0.094348 * cst.Mjups]) # Masses in Solar unit\n",
    "R_rsun   = np.array([1.1, 0.842 * cst.Rjups, 0.823 * cst.Rjups]) # Radii in Solar unit\n",
    "P_day    = np.array([0.0, 19.238756, 38.986097]) # Periods in days\n",
    "ecc      = np.array([0.0, 0.058, 0.068]) # eccentricities\n",
    "argp_deg = np.array([0.0, 356.1, 167.6]) # argument of pericenters in degrees\n",
    "mA_deg   = np.array([0.0, 3.8, 307.4]) # mean anonalies in degrees\n",
    "inc_deg  = np.array([0.0, 88.55, 89.12]) # inclinations in degrees\n",
    "lN_deg   = np.array([0.0, 0.0, 0.0])# longitude of ascending nodes in degrees"
   ]
  },
  {
   "cell_type": "markdown",
   "id": "d3132c9f-4530-4f1c-a8d0-d65042afa336",
   "metadata": {},
   "source": [
    "it is needed to define a flag vector to identify which bodies has to transit or not, the `star` does not, so first element has to be flagged to `False`.  \n",
    "If you don't know if they transit or not set `star` to `False`, all `other bodies` to `True`."
   ]
  },
  {
   "cell_type": "code",
   "execution_count": 14,
   "id": "345ff451-ff5b-41c5-a04f-11a2a6b64531",
   "metadata": {},
   "outputs": [],
   "source": [
    "transit_flag = np.array([False, True, True])"
   ]
  },
  {
   "cell_type": "markdown",
   "id": "91eec75a-5fa3-4df2-9e58-7b7525e3d6d7",
   "metadata": {},
   "source": [
    "### OUTPUT:\n",
    "- `rv_sim(n_rv)` in m/s  \n",
    "- `body_T0_sim(n_T0s)` id of the body, from 2 to n_body, of each transit time    \n",
    "- `epo_sim(n_T0s)` epoch number of the transit w.r.t. the linear ephemeris of the corresponding body  \n",
    "- `t0_sim(n_T0s)` simulated transit time in days corresponding to epoch and body at the same row  \n",
    "- `t14_sim(n_T0s)` simulated Total Duration as T4 - T1 in minutes  \n",
    "- `kel_sim(n_T0s, 8)` keplerian elements for each transit time, each column an orbital elements:  \n",
    "    - `kel_sim(, 0)` period in days  \n",
    "    - `kel_sim(, 1)` semi-major axis in au  \n",
    "    - `kel_sim(, 2)` eccentricity  \n",
    "    - `kel_sim(, 3)` inclination in degrees  \n",
    "    - `kel_sim(, 4)` mean anomaly in degrees  \n",
    "    - `kel_sim(, 5)` argument of pericenter in degrees  \n",
    "    - `kel_sim(, 6)` true anomaly in degrees  \n",
    "    - `kel_sim(, 7)` longitude of ascending node in degrees  "
   ]
  },
  {
   "cell_type": "markdown",
   "id": "e970ba42-d246-46fe-aa95-a954a945da25",
   "metadata": {},
   "source": [
    "let's run the orbital integration and get the simulated RVs and T0s (with orbital elements)"
   ]
  },
  {
   "cell_type": "code",
   "execution_count": 15,
   "id": "c16056f1-bd87-4eb5-a05d-e32c78bf999d",
   "metadata": {},
   "outputs": [],
   "source": [
    "rv_sim, body_T0_sim, epo_sim, t0_sim, t14_sim, kel_sim = pytrades.kelements_to_rv_and_t0s(\n",
    "    t_start,\n",
    "    t_epoch,\n",
    "    t_int,\n",
    "    M_msun,\n",
    "    R_rsun,\n",
    "    P_day,\n",
    "    ecc,\n",
    "    argp_deg,\n",
    "    mA_deg,\n",
    "    inc_deg,\n",
    "    lN_deg,\n",
    "    transit_flag,\n",
    ")"
   ]
  },
  {
   "cell_type": "code",
   "execution_count": 16,
   "id": "ba8e51de-2235-4d16-8c1a-6eec87a2ba09",
   "metadata": {},
   "outputs": [
    {
     "name": "stdout",
     "output_type": "stream",
     "text": [
      "time RVobs RVsim_mps\n",
      "2455342.947836 17.15 4.980736854926989\n",
      "2455344.061419 2.23 1.8347252274533956\n",
      "2455351.037415 -7.89 -1.6667847533897884\n",
      "2455352.011289 -4.61 0.5108758858588707\n",
      "2455367.083543 -25.45 -15.778435238604793\n",
      "2455376.930532 17.39 11.142261075343548\n"
     ]
    }
   ],
   "source": [
    "print(\"time RVobs RVsim_mps\")\n",
    "for to, rvo, rvs in zip(t_rv, rv_obs, rv_sim):\n",
    "    print(to, rvo, rvs)"
   ]
  },
  {
   "cell_type": "code",
   "execution_count": 17,
   "id": "46592dd1-6ce3-4dc7-ba0e-9c443ebec82c",
   "metadata": {},
   "outputs": [
    {
     "name": "stdout",
     "output_type": "stream",
     "text": [
      "body epoch T0o T0s T14_min\n",
      "2 -5 2454977.24875 2454977.2458032337 265.6053379923105\n",
      "2 -4 2454996.4824 2454996.4797574175 265.60894422233105\n",
      "2 -2 2455034.95437 2455034.9506268245 265.6059803813696\n",
      "2 -1 2455054.19058 2455054.1866168724 265.60070380568504\n",
      "2 0 2455073.43412 2455073.431005566 265.5977024137974\n",
      "2 2 2455111.92589 2455111.922470898 265.5827370285988\n",
      "2 3 2455131.17167 2455131.1685427255 265.5742082744837\n",
      "2 4 2455150.42951 2455150.4261464677 265.55913493037224\n",
      "2 5 2455169.68103 2455169.6780878073 265.54903976619244\n",
      "3 -3 2454969.30577 2454969.312543784 339.5433899760246\n",
      "3 -2 2455008.33086 2455008.336975492 339.49311532080173\n",
      "3 -1 2455047.3356 2455047.340681977 339.43354077637196\n",
      "3 0 2455086.31251 2455086.3192708455 339.37173396348953\n",
      "3 1 2455125.26284 2455125.2691809363 339.31634299457073\n",
      "3 2 2455164.18168 2455164.1883075153 339.27657656371593\n"
     ]
    }
   ],
   "source": [
    "print(\"body epoch T0o T0s T14_min\")\n",
    "for ibd, epo, t0o, t0s, t14 in zip(body_T0_sim, epo_sim, np.concatenate((t0_b, t0_c)), t0_sim, t14_sim):\n",
    "    print(ibd, epo, t0o, t0s, t14)"
   ]
  },
  {
   "cell_type": "markdown",
   "id": "d39e100e-5ac0-43c9-8666-736d0517b43a",
   "metadata": {},
   "source": [
    "## create a log-likelyhood function such as:"
   ]
  },
  {
   "cell_type": "code",
   "execution_count": null,
   "id": "33036164-34c4-4253-a637-c3d4ef5e3176",
   "metadata": {},
   "outputs": [],
   "source": [
    "def fit_to_physical(fit_pars):\n",
    "    \n",
    "    # here convert the fit_pars into:\n",
    "    # mass of all bodies (star, b, c, ...) in Msun,\n",
    "    # radius Rsun,\n",
    "    # period in day,\n",
    "    # ecc,\n",
    "    # argp in deg,\n",
    "    # meana in deg,\n",
    "    # inc deg,\n",
    "    # longn deg,\n",
    "    # use GLOBAL!\n",
    "    \n",
    "    return mass, radius, period, ecc, argp, meana, inc, longn \n",
    "\n",
    "def loglike_function(fit_pars):\n",
    "    \n",
    "    mass, radius, period, ecc, argp, meana, inc, longn = fit_to_physical(fit_pars)\n",
    "    \n",
    "    rv_sim, body_T0_sim, epo_sim, t0_sim, t14_sim, kel_sim = pytrades.kelements_to_rv_and_t0s(\n",
    "        t_start, # GLOBAL\n",
    "        t_epoch, # GLOBAL\n",
    "        t_int, # GLOBAL\n",
    "        mass, radius, period, ecc, argp, meana, inc, longn\n",
    "        transit_flag, # GLOBAL\n",
    "    )\n",
    "    \n",
    "    ## RV\n",
    "    lnL_rv = 0\n",
    "    # add trends, gp to rv_sim\n",
    "    rv = rv_sim + trend_rv + gp_rv\n",
    "    res_rv = rv_obs - rv # rv_obs GLOBAL\n",
    "    # lnL_rv = f(res_rv, jitter, etc)\n",
    "    \n",
    "    ## T0s\n",
    "    lnL_T0 = 0\n",
    "    res_T0b = t0_b - t0_sim[body_T0_sim_sim==2] # t0_b GLOBAL\n",
    "    res_T0c = t0_c - t0_sim[body_T0_sim_sim==3] # t0_c GLOBAL\n",
    "    lnL_T0 = g(res_T0b, res_T0c)\n",
    "    \n",
    "    lnL = lnL_rv + lnL_T0\n",
    "    \n",
    "    return lnL"
   ]
  },
  {
   "cell_type": "markdown",
   "id": "dbe6d9ff-43ac-4ccc-9e3f-c544db0abaec",
   "metadata": {},
   "source": [
    "### try to deallocate a T0s dataset: planet c"
   ]
  },
  {
   "cell_type": "code",
   "execution_count": null,
   "id": "9afb3f02-8445-4d7e-9526-f341a9a5396b",
   "metadata": {},
   "outputs": [],
   "source": [
    "pytrades.deallocate_t0_dataset(3)"
   ]
  },
  {
   "cell_type": "code",
   "execution_count": null,
   "id": "7b2e8a72-b232-404e-879b-8461e758380b",
   "metadata": {},
   "outputs": [],
   "source": [
    "rv_sim, body_T0_sim, epo_sim, t0_sim, t14_sim, kel_sim = pytrades.kelements_to_rv_and_t0s(\n",
    "    t_start,\n",
    "    t_epoch,\n",
    "    t_int,\n",
    "    M_msun,\n",
    "    R_rsun,\n",
    "    P_day,\n",
    "    ecc,\n",
    "    argp_deg,\n",
    "    mA_deg,\n",
    "    inc_deg,\n",
    "    lN_deg,\n",
    "    transit_flag,\n",
    ")"
   ]
  },
  {
   "cell_type": "code",
   "execution_count": null,
   "id": "85040057-9b97-4e33-8cfd-bc6e110846af",
   "metadata": {},
   "outputs": [],
   "source": [
    "print(\"time RVobs RVsim_mps\")\n",
    "for to, rvo, rvs in zip(t_rv, rv_obs, rv_sim):\n",
    "    print(to, rvo, rvs)"
   ]
  },
  {
   "cell_type": "code",
   "execution_count": null,
   "id": "3e914c64-1f6d-402c-933c-f1653c0c5d5a",
   "metadata": {},
   "outputs": [],
   "source": [
    "print(\"body epoch T0 T14_min\")\n",
    "for ibd, epo, t0s, t14 in zip(body_T0_sim, epo_sim, t0_sim, t14_sim):\n",
    "    print(ibd, epo, t0s, t14)"
   ]
  },
  {
   "cell_type": "markdown",
   "id": "ba72c4ea-115a-412d-8c05-bf11b5136f33",
   "metadata": {},
   "source": [
    "### testing only RVs output"
   ]
  },
  {
   "cell_type": "code",
   "execution_count": null,
   "id": "18e3c4e5-6c53-40c9-a402-1db88e4c342b",
   "metadata": {},
   "outputs": [],
   "source": [
    "rv_sim = pytrades.kelements_to_rv(\n",
    "    t_start,\n",
    "    t_epoch,\n",
    "    t_int,\n",
    "    M_msun,\n",
    "    R_rsun,\n",
    "    P_day,\n",
    "    ecc,\n",
    "    argp_deg,\n",
    "    mA_deg,\n",
    "    inc_deg,\n",
    "    lN_deg,\n",
    ")"
   ]
  },
  {
   "cell_type": "code",
   "execution_count": null,
   "id": "9b275981-063b-402a-988b-f999040feb37",
   "metadata": {},
   "outputs": [],
   "source": [
    "print(\"time RVobs RVsim_mps\")\n",
    "for to, rvo, rvs in zip(t_rv, rv_obs, rv_sim):\n",
    "    print(to, rvo, rvs)"
   ]
  },
  {
   "cell_type": "markdown",
   "id": "4c6a0075-a09e-4ab3-9a4f-40154ad13611",
   "metadata": {},
   "source": [
    "### testing only T0s output  \n",
    "re-adding T0s of planet c"
   ]
  },
  {
   "cell_type": "code",
   "execution_count": null,
   "id": "8d0cba63-2834-4926-aaf4-8ad6b691df3b",
   "metadata": {},
   "outputs": [],
   "source": [
    "pytrades.set_t0_dataset(body_id, epo_c, t0_c, et0_c)"
   ]
  },
  {
   "cell_type": "code",
   "execution_count": null,
   "id": "35358df8-1c38-464b-8616-9af3a15617ca",
   "metadata": {},
   "outputs": [],
   "source": [
    "body_T0_sim, epo_sim, t0_sim, t14_sim, kel_sim = pytrades.kelements_to_t0s(\n",
    "    t_start,\n",
    "    t_epoch,\n",
    "    t_int,\n",
    "    M_msun,\n",
    "    R_rsun,\n",
    "    P_day,\n",
    "    ecc,\n",
    "    argp_deg,\n",
    "    mA_deg,\n",
    "    inc_deg,\n",
    "    lN_deg,\n",
    "    transit_flag,\n",
    ")"
   ]
  },
  {
   "cell_type": "code",
   "execution_count": null,
   "id": "f801d3ac-f6c1-4b8f-9282-24cbaff172fa",
   "metadata": {},
   "outputs": [],
   "source": [
    "print(\"body epoch T0 T14_min\")\n",
    "for ibd, epo, t0s, t14 in zip(body_T0_sim, epo_sim, t0_sim, t14_sim):\n",
    "    print(ibd, epo, t0s, t14)"
   ]
  },
  {
   "cell_type": "code",
   "execution_count": null,
   "id": "2ef793a0-bd63-4724-9534-eb6150a3c46a",
   "metadata": {},
   "outputs": [],
   "source": []
  }
 ],
 "metadata": {
  "kernelspec": {
   "display_name": "Python 3 (ipykernel)",
   "language": "python",
   "name": "python3"
  },
  "language_info": {
   "codemirror_mode": {
    "name": "ipython",
    "version": 3
   },
   "file_extension": ".py",
   "mimetype": "text/x-python",
   "name": "python",
   "nbconvert_exporter": "python",
   "pygments_lexer": "ipython3",
   "version": "3.10.12"
  }
 },
 "nbformat": 4,
 "nbformat_minor": 5
}
